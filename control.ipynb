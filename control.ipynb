{
 "cells": [
  {
   "cell_type": "code",
   "execution_count": 7,
   "metadata": {},
   "outputs": [],
   "source": [
    "import control as ct\n",
    "import numpy as np"
   ]
  },
  {
   "cell_type": "code",
   "execution_count": 8,
   "metadata": {},
   "outputs": [
    {
     "data": {
      "text/latex": [
       "$$\n",
       "\\left(\\begin{array}{rllrll|rll}\n",
       "0\\phantom{.}&\\hspace{-1em}&\\hspace{-1em}\\phantom{\\cdot}&1\\phantom{.}&\\hspace{-1em}&\\hspace{-1em}\\phantom{\\cdot}&0\\phantom{.}&\\hspace{-1em}&\\hspace{-1em}\\phantom{\\cdot}\\\\\n",
       "-1\\phantom{.}&\\hspace{-1em}&\\hspace{-1em}\\phantom{\\cdot}&-1\\phantom{.}&\\hspace{-1em}&\\hspace{-1em}\\phantom{\\cdot}&1\\phantom{.}&\\hspace{-1em}&\\hspace{-1em}\\phantom{\\cdot}\\\\\n",
       "\\hline\n",
       "1\\phantom{.}&\\hspace{-1em}&\\hspace{-1em}\\phantom{\\cdot}&0\\phantom{.}&\\hspace{-1em}&\\hspace{-1em}\\phantom{\\cdot}&0\\phantom{.}&\\hspace{-1em}&\\hspace{-1em}\\phantom{\\cdot}\\\\\n",
       "\\end{array}\\right)\n",
       "$$"
      ],
      "text/plain": [
       "<LinearIOSystem:sys[4]:['u[0]']->['y[0]']>"
      ]
     },
     "execution_count": 8,
     "metadata": {},
     "output_type": "execute_result"
    }
   ],
   "source": [
    "# define state space matrices\n",
    "A = [[0, 1], [-1, -1]]\n",
    "B = [[0], [1]]\n",
    "C = [[1, 0]]\n",
    "D = [[0]]\n",
    "\n",
    "# create the system\n",
    "sys = ct.ss(A, B, C, D)\n",
    "sys"
   ]
  },
  {
   "cell_type": "code",
   "execution_count": 12,
   "metadata": {},
   "outputs": [
    {
     "data": {
      "text/plain": [
       "2"
      ]
     },
     "execution_count": 12,
     "metadata": {},
     "output_type": "execute_result"
    }
   ],
   "source": [
    "obs = ct.obsv(sys.A, sys.C)\n",
    "np.linalg.matrix_rank(obs)"
   ]
  },
  {
   "cell_type": "code",
   "execution_count": 16,
   "metadata": {},
   "outputs": [
    {
     "data": {
      "text/plain": [
       "6"
      ]
     },
     "execution_count": 16,
     "metadata": {},
     "output_type": "execute_result"
    }
   ],
   "source": [
    "# x = [ptx, pty, pux_dot, puy_dot, pbx_dot, pby_dot]\n",
    "# ptx_dot = pux_dot + pbx_dot\n",
    "# pty_dot = puy_dot + pby_dot\n",
    "\n",
    "A = [[0, 0, 1, 0, 1, 0],\n",
    "     [0, 0, 0, 1, 0, 1],\n",
    "     [0, 0, 0, 0, 0, 0],\n",
    "     [0, 0, 0, 0, 0, 0],\n",
    "     [0, 0, 0, 0, 0, 0],\n",
    "     [0, 0, 0, 0, 0, 0]]\n",
    "# measurements of pt and pt_dot are taken\n",
    "# y = [ptx pty ptx_dot pty_dot]\n",
    "C = [[1, 0, 0, 0, 0, 0],\n",
    "     [0, 1, 0, 0, 0, 0],\n",
    "     [0, 0, 1, 0, 1, 0],\n",
    "     [0, 0, 0, 1, 0, 1],\n",
    "     [0, 0, 1, 0, 0, 0],\n",
    "     [0, 0, 0, 1, 0, 0]]\n",
    "\n",
    "obs = ct.obsv(A, C)\n",
    "np.linalg.matrix_rank(obs)"
   ]
  }
 ],
 "metadata": {
  "kernelspec": {
   "display_name": "Python 3",
   "language": "python",
   "name": "python3"
  },
  "language_info": {
   "codemirror_mode": {
    "name": "ipython",
    "version": 3
   },
   "file_extension": ".py",
   "mimetype": "text/x-python",
   "name": "python",
   "nbconvert_exporter": "python",
   "pygments_lexer": "ipython3",
   "version": "3.10.12"
  },
  "orig_nbformat": 4
 },
 "nbformat": 4,
 "nbformat_minor": 2
}
